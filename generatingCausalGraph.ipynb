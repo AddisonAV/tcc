{
 "cells": [
  {
   "cell_type": "markdown",
   "metadata": {},
   "source": [
    "Importing necessary libraries"
   ]
  },
  {
   "cell_type": "code",
   "execution_count": 121,
   "metadata": {},
   "outputs": [],
   "source": [
    "import numpy as np\n",
    "import pandas as pd\n",
    "from sklearn.preprocessing import MinMaxScaler\n",
    "from statsmodels.tsa.stattools import grangercausalitytests\n",
    "import networkx as nx\n",
    "import matplotlib.pyplot as plt\n",
    "from PyIF import te_compute as te"
   ]
  },
  {
   "cell_type": "markdown",
   "metadata": {},
   "source": [
    "Base functions"
   ]
  },
  {
   "cell_type": "code",
   "execution_count": 122,
   "metadata": {},
   "outputs": [],
   "source": [
    "def format_COVID_DataBase(_db): \n",
    "    # Query the database to get the only a specific group of data    \n",
    "    filtered_db = _db.query(\"demographic_category == 'Age Group'\")\n",
    "    \n",
    "    #drop values in 'demographic_value' column that are not valid\n",
    "    filtered_db = filtered_db[filtered_db['demographic_value'].isin(['0-17', '18-49', '50-64', '65+'])]\n",
    "    \n",
    "    # copy demographic_value column to a new column called 'label'\n",
    "    label = filtered_db['demographic_value']\n",
    "\n",
    "    # drop columns that are not needed\n",
    "    filtered_db = filtered_db.drop(['demographic_category', 'report_date'], axis=1)\n",
    "\n",
    "    newDB = np.zeros((509,  5, 4))\n",
    "    newDB[:,:,:] = np.NaN\n",
    "\n",
    "    groups = ['0-17', '18-49', '50-64', '65+']\n",
    "    # create a new database with the data in the correct format\n",
    "    for agegroup in groups:\n",
    "        newDB[:,:,groups.index(agegroup)] = filtered_db.query(\"demographic_value == @agegroup\").drop(['demographic_value'], axis=1).to_numpy()\n",
    "        \n",
    "    return label, newDB"
   ]
  },
  {
   "attachments": {},
   "cell_type": "markdown",
   "metadata": {},
   "source": [
    "Granger Causality"
   ]
  },
  {
   "cell_type": "code",
   "execution_count": 123,
   "metadata": {},
   "outputs": [],
   "source": [
    "#find the minimum pvalue in Granger Causality test result dictionary\n",
    "def find_min_pvalue(gc_result_dict):\n",
    "  min_pvalue = 1.0\n",
    "  for lag_key, lag_result in gc_result_dict.items():\n",
    "    #print(f'Lag: {lag_key}')    \n",
    "    \n",
    "    for test_key, test_result in lag_result[0].items():\n",
    "      if test_key != \"params_ftest\":\n",
    "        pvalue =  test_result[1]\n",
    "        if pvalue < min_pvalue:\n",
    "          min_pvalue = pvalue\n",
    "      \n",
    "  #print('\\n'f\"final p-value: {min_pvalue}\")\n",
    "  return min_pvalue\n",
    "\n",
    "\n",
    "def create_granger_matrix(dataset, max_lags=3):\n",
    "  matrix = []\n",
    "  #noColumns = len(dataset.columns)\n",
    "  for i in range(0,4):\n",
    "    row = []\n",
    "    for j in range(0,4):\n",
    "      pvalue = -1\n",
    "      for k in range(0,4):\n",
    "        #print('\\n=======\\n'f'Checking if column {j} granger causes column {i}')\n",
    "        #calculate granger causality results\n",
    "        gc_ji_result = grangercausalitytests(dataset[:,k,[j,i]],max_lags, verbose=False)\n",
    "        #get p-value\n",
    "        #pvalue = gc_result[3][0]['lrtest'][1]\n",
    "        l_pvalue = find_min_pvalue(gc_ji_result)\n",
    "        if l_pvalue > pvalue: \n",
    "          pvalue = l_pvalue\n",
    "        #print (f\"pvalue: {pvalue}\")\n",
    "        #append pvalue in row\n",
    "      row.append(pvalue)\n",
    "    #append row in matrix\n",
    "    matrix.append(row)\n",
    "  #return matrix\n",
    "  return matrix"
   ]
  },
  {
   "attachments": {},
   "cell_type": "markdown",
   "metadata": {},
   "source": [
    "Create Visual Graph"
   ]
  },
  {
   "cell_type": "code",
   "execution_count": 124,
   "metadata": {},
   "outputs": [],
   "source": [
    "def generate_graph_from_dataframe(data):\n",
    "  graph = nx.DiGraph()\n",
    "  data_values = data.values\n",
    "  \n",
    "  for row in range(0,len(data_values)): \n",
    "    for column in range(0,len(data_values)):\n",
    "      if data_values[row][column]: \n",
    "        graph.add_edge(row,column)\n",
    "  return graph\n",
    "\n",
    "def generate_graph_from_matrix(matrix):\n",
    "    gc_pvalues = pd.DataFrame(matrix)\n",
    "\n",
    "    threshold = 0.01\n",
    "    gc_boolean = gc_pvalues.applymap(lambda x: int(x<threshold))\n",
    "\n",
    "    graph = nx.DiGraph()\n",
    "\n",
    "    gen_graph = generate_graph_from_dataframe(gc_boolean)\n",
    "    nx.draw_circular(gen_graph, with_labels=True)"
   ]
  },
  {
   "cell_type": "code",
   "execution_count": 125,
   "metadata": {},
   "outputs": [],
   "source": [
    "def generate_and_plot_graph_from_matrix(_matrix, _threshold):\n",
    "  plt.figure(figsize=(10,8))\n",
    "  _graph = nx.DiGraph()\n",
    "  pos = nx.spring_layout(_graph)\n",
    "\n",
    "  edges = []\n",
    "  for row in range(0,_matrix.shape[0]): \n",
    "    for column in range(0,_matrix.shape[1]):\n",
    "      if ((row != column) & (_matrix[row][column] > _threshold)):\n",
    "        #print(f'({column},{row}) = {round(_matrix[row][column],5)}')\n",
    "        edges.append((column,row,round(_matrix[row][column],5)))\n",
    "        _graph.add_edge(column, row, weight=round(_matrix[row][column],3))\n",
    "        #_graph.add_edge(column, row, color=column, width=(10*_matrix[row][column]), label=_matrix[row][column])\n",
    "  \n",
    "  pos = nx.circular_layout(_graph)\n",
    "  nx.draw(_graph, pos, with_labels=True, font_weight='bold')\n",
    "  edge_weight = nx.get_edge_attributes(_graph,'weight')\n",
    "  nx.draw_networkx_edge_labels(_graph, pos, label_pos=0.2, edge_labels=edge_weight)\n",
    "  plt.show()\n",
    "\n",
    "  #print(f'\\nArestas (threshold = {_threshold}):\\n {edges}')\n",
    "\n",
    "  return _graph"
   ]
  },
  {
   "attachments": {},
   "cell_type": "markdown",
   "metadata": {},
   "source": [
    "Transfer Entropy"
   ]
  },
  {
   "cell_type": "code",
   "execution_count": null,
   "metadata": {},
   "outputs": [],
   "source": [
    "def create_transfer_entropy_matrix(dataset):\n",
    "  matrix = []\n",
    "  noColumns = len(dataset.columns)\n",
    "  for i in range(0,noColumns):\n",
    "    row = []\n",
    "    for j in range(0,noColumns):\n",
    "      print(f'Checking transfer entropy of column {j} towards column {i} \\n')\n",
    "      #calculate granger causality results\n",
    "      te_ji_result = te.te_compute(dataset.iloc[:,j].to_numpy(),dataset.iloc[:,i].to_numpy())\n",
    "      #get p-value\n",
    "      #pvalue = gc_result[3][0]['lrtest'][1]\n",
    "      #pvalue = find_min_pvalue(gc_ji_result)\n",
    "      #print (f\"pvalue: {pvalue}\")\n",
    "      #append pvalue in row\n",
    "      row.append(te_ji_result)\n",
    "    #append row in matrix\n",
    "    matrix.append(row)\n",
    "  #return matrix\n",
    "  return matrix"
   ]
  },
  {
   "cell_type": "markdown",
   "metadata": {},
   "source": [
    "Base Program"
   ]
  },
  {
   "cell_type": "code",
   "execution_count": 126,
   "metadata": {},
   "outputs": [
    {
     "data": {
      "image/png": "[encoded data removed]",
      "text/plain": [
       "<Figure size 1000x800 with 1 Axes>"
      ]
     },
     "metadata": {},
     "output_type": "display_data"
    }
   ],
   "source": [
    "in_db = pd.read_csv('demographics.csv')\n",
    "label, formated_db = format_COVID_DataBase(in_db)\n",
    "\n",
    "\n",
    "# Prepare the train and test database\n",
    "scaler = MinMaxScaler((-1,1))\n",
    "\n",
    "for i in range(0, 4):\n",
    "   # Fit database to scaler\n",
    "   scaler.fit(formated_db[:,:,i])\n",
    "\n",
    "   # Now apply the transformations to the data:\n",
    "   formated_db[:,:,i] = scaler.transform(formated_db[:,:,i])\n",
    "\n",
    "\n",
    "theMatrix = create_granger_matrix(formated_db, max_lags=3)\n",
    "#generate_graph_from_matrix(theMatrix)\n",
    "#gen_graph_causality = generate_and_plot_graph_from_matrix(pd.DataFrame(theMatrix), 0.001)\n"
   ]
  }
 ],
 "metadata": {
  "kernelspec": {
   "display_name": "Python 3",
   "language": "python",
   "name": "python3"
  },
  "language_info": {
   "codemirror_mode": {
    "name": "ipython",
    "version": 3
   },
   "file_extension": ".py",
   "mimetype": "text/x-python",
   "name": "python",
   "nbconvert_exporter": "python",
   "pygments_lexer": "ipython3",
   "version": "3.11.1"
  },
  "orig_nbformat": 4,
  "vscode": {
   "interpreter": {
    "hash": "8d41b7f97a7d3802dbaafaf8b366829b7a45cccd34f80ad3826526d1dab4390b"
   }
  }
 },
 "nbformat": 4,
 "nbformat_minor": 2
}
