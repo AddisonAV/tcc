{
 "cells": [
  {
   "cell_type": "code",
   "execution_count": 8,
   "metadata": {},
   "outputs": [
    {
     "name": "stdout",
     "output_type": "stream",
     "text": [
      "<HDF5 dataset \"axis1\": shape (1461,), type \"<i8\">\n"
     ]
    }
   ],
   "source": [
    "import h5py\n",
    "\n",
    "filename = \"crypto_prices.h5\"\n",
    "\n",
    "h5 = h5py.File(filename,'r')\n",
    "\n",
    "df = np.array(h5['df'])\n",
    "print(h5['df']['axis1'])\n",
    "#futures_data = h5['']  # VSTOXX futures data\n",
    "#options_data = h5['options_data']  # VSTOXX call option data\n",
    "\n",
    "h5.close()"
   ]
  }
 ],
 "metadata": {
  "kernelspec": {
   "display_name": "Python 3",
   "language": "python",
   "name": "python3"
  },
  "language_info": {
   "codemirror_mode": {
    "name": "ipython",
    "version": 3
   },
   "file_extension": ".py",
   "mimetype": "text/x-python",
   "name": "python",
   "nbconvert_exporter": "python",
   "pygments_lexer": "ipython3",
   "version": "3.10.9"
  },
  "orig_nbformat": 4
 },
 "nbformat": 4,
 "nbformat_minor": 2
}
