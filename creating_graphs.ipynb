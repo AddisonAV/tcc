{
 "cells": [
  {
   "cell_type": "code",
   "execution_count": 2,
   "metadata": {},
   "outputs": [],
   "source": [
    "import pandas as pd\n",
    "import matplotlib.pyplot as plt\n",
    "import seaborn as sns\n",
    "import os"
   ]
  },
  {
   "cell_type": "code",
   "execution_count": null,
   "metadata": {},
   "outputs": [],
   "source": [
    "# Load the .csv file into a Pandas dataframe\n",
    "df = pd.read_csv(\"cases-deaths-tests.csv\")\n",
    "database_name = \"test/\"\n",
    "\n",
    "#You can use the loc function to filter the data, by passing a boolean mask to it:\n",
    "#db_main_column = df.loc[df[\"demographic_category\"] == \"Age Group\"]\n",
    "\n",
    "# You can also use query() function to filter the data in a more concise way\n",
    "# Ex: db_main_column = df.query(\"demographic_category == 'Age Group'\")\n",
    "db_main_column = df.query(\"area == 'San Diego'\")\n",
    "#db_main_column[db_main_column[\"demographic_value\"] == \"0-17\"][\"total_cases\"]\n",
    "db_main_column_name = \"area\"\n",
    "db_main_column_value = db_main_column[db_main_column_name]\n",
    "db_main_column_unique = db_main_column[db_main_column_name].unique()\n",
    "\n",
    "#data[columns].apply(pd.to_numeric, downcast='integer', errors='coerce')\n",
    "# https://urbaninstitute.github.io/graphics-styleguide/"
   ]
  },
  {
   "attachments": {},
   "cell_type": "markdown",
   "metadata": {},
   "source": [
    "Defining the graph"
   ]
  },
  {
   "cell_type": "code",
   "execution_count": null,
   "metadata": {},
   "outputs": [],
   "source": [
    "def plot_graph(x_axis, y_axis, filename):\n",
    "    # Loop through each unique value in demographic_value\n",
    "    for unique_value in db_main_column_unique[:5]:\n",
    "        # Plot the x-axis and y-axis values for the current demographic_value\n",
    "        plt.plot(db_main_column[db_main_column[db_main_column_name] == unique_value][x_axis],\n",
    "                 db_main_column[db_main_column[db_main_column_name] == unique_value][y_axis])\n",
    "\n",
    "    # Customize the x-axis labels to show every 30th date and rotate them for readability\n",
    "    plt.xticks(range(0, len(db_main_column[db_main_column_value == db_main_column_unique[0]][x_axis]), 30), \n",
    "           db_main_column[db_main_column_value == db_main_column_unique[0]][x_axis][::30], rotation=90)\n",
    "    \n",
    "    # Label the x-axis and y-axis\n",
    "    plt.xlabel(x_axis)\n",
    "    plt.ylabel(y_axis)\n",
    "\n",
    "    # Title the graph\n",
    "    plt.title(y_axis + \" by Age Group\")\n",
    "    # Add a legend to the graph with the unique demographic_value values\n",
    "    plt.legend(db_main_column_unique)\n",
    "\n",
    "    # Create a directory to save the graphs if it doesn't already exist\n",
    "    if not os.path.exists(\"graphs/\" + database_name):\n",
    "        os.mkdir(\"graphs/\" + database_name)\n",
    "    \n",
    "    # Save the graph to the \"graphs\" directory with the specified filename\n",
    "    plt.savefig(\"graphs/\"+ filename, format=\"png\", dpi=300, bbox_inches=\"tight\")\n",
    "    # Show the graph\n",
    "    plt.show() \n",
    "\n",
    "\n",
    "# Loop through each column in the db_main_column DataFrame (excluding desired columns)\n",
    "for value in db_main_column.columns[3:]:\n",
    "    # Call the plot_graph function for the current column, using \"report_date\" as the x-axis and the current column as the y-axis\n",
    "    plot_graph(\"date\", value, database_name + value + \"_by_db_main_column.png\")"
   ]
  },
  {
   "attachments": {},
   "cell_type": "markdown",
   "metadata": {},
   "source": [
    "Scatter plot"
   ]
  },
  {
   "cell_type": "code",
   "execution_count": null,
   "metadata": {},
   "outputs": [],
   "source": [
    "def plot_graph(x_axis, y_axis, value, filename):\n",
    "    # Create a list of unique values in the demographic_value column\n",
    "    plt.scatter(db_main_column[db_main_column_value == value][x_axis], db_main_column[db_main_column_value == value][y_axis])\n",
    "    \n",
    "    # Label the x-axis and y-axis\n",
    "    plt.xlabel(x_axis)\n",
    "    plt.ylabel(y_axis)\n",
    "\n",
    "    # Title the graph\n",
    "    plt.title(y_axis+\" by \"+x_axis + \" for \" + value)\n",
    "\n",
    "    # Create a directory to save the graphs if it doesn't already exist\n",
    "    if not os.path.exists(\"graphs/\" + database_name):\n",
    "        os.mkdir(\"graphs/\" + database_name)\n",
    "    \n",
    "    # Save the graph to the \"graphs\" directory with the specified filename\n",
    "    plt.savefig(\"graphs/\"+ filename +\"_for_\"+value+\".png\", format=\"png\", dpi=300, bbox_inches=\"tight\")\n",
    "    plt.show()\n",
    "\n",
    "y_axis = \"deaths\"\n",
    "x_axis = \"cases\"\n",
    "\n",
    "# Loop through each unique value in demographic_value\n",
    "for value in db_main_column_unique:\n",
    "    # Call the plot_graph function for the current demographic_value\n",
    "    plot_graph(x_axis, y_axis, value, database_name + y_axis+\"_by_\"+x_axis)\n"
   ]
  },
  {
   "attachments": {},
   "cell_type": "markdown",
   "metadata": {},
   "source": [
    "Pair Plot"
   ]
  },
  {
   "cell_type": "code",
   "execution_count": null,
   "metadata": {},
   "outputs": [],
   "source": [
    "# Create a scatter plot matrix\n",
    "sns.pairplot(db_main_column, hue=db_main_column_name, diag_kind = \"hist\", height=2.5)\n",
    "\n",
    "# Create a directory to save the graphs if it doesn't already exist\n",
    "if not os.path.exists(\"graphs/\" + database_name):\n",
    "    os.mkdir(\"graphs/\" + database_name)\n",
    "\n",
    "plt.savefig(\"graphs/\"+ database_name + \"scatter_plot_matrix_nohue.png\", format=\"png\", dpi=300, bbox_inches=\"tight\")\n",
    "plt.show()"
   ]
  }
 ],
 "metadata": {
  "kernelspec": {
   "display_name": "Python 3",
   "language": "python",
   "name": "python3"
  },
  "language_info": {
   "codemirror_mode": {
    "name": "ipython",
    "version": 3
   },
   "file_extension": ".py",
   "mimetype": "text/x-python",
   "name": "python",
   "nbconvert_exporter": "python",
   "pygments_lexer": "ipython3",
   "version": "3.11.1"
  },
  "orig_nbformat": 4,
  "vscode": {
   "interpreter": {
    "hash": "8d41b7f97a7d3802dbaafaf8b366829b7a45cccd34f80ad3826526d1dab4390b"
   }
  }
 },
 "nbformat": 4,
 "nbformat_minor": 2
}
